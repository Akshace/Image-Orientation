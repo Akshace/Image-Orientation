{
 "cells": [
  {
   "cell_type": "code",
   "execution_count": 70,
   "metadata": {},
   "outputs": [],
   "source": [
    "import os \n",
    "import math\n",
    "import numpy as np\n",
    "import pandas as pd\n",
    "from matplotlib import pyplot as plt\n",
    "from collections import Counter"
   ]
  },
  {
   "cell_type": "code",
   "execution_count": 72,
   "metadata": {},
   "outputs": [],
   "source": [
    "train_data = pd.read_csv(\"train-data (1).txt\", sep = \" \", header = None)"
   ]
  },
  {
   "cell_type": "code",
   "execution_count": 73,
   "metadata": {},
   "outputs": [],
   "source": [
    "train_new = train_data.drop(columns = [0], axis = 1)"
   ]
  },
  {
   "cell_type": "code",
   "execution_count": 74,
   "metadata": {},
   "outputs": [],
   "source": [
    "train_new.to_csv('model.txt', sep=' ', index=False, header = None)"
   ]
  },
  {
   "cell_type": "code",
   "execution_count": 75,
   "metadata": {},
   "outputs": [],
   "source": [
    "input = open('model.txt',\"r\")"
   ]
  },
  {
   "cell_type": "code",
   "execution_count": 76,
   "metadata": {},
   "outputs": [],
   "source": [
    "test_list=[]\n",
    "train=[]\n",
    "\n",
    "for line in input:\n",
    "    train.append([line.split(\" \")[0], np.array(line.split(\" \")[1:], dtype=int)])\n",
    "#     train[line.split(\" \")[0]] = np.array(line.split(\" \")[1:], dtype=int)"
   ]
  },
  {
   "cell_type": "code",
   "execution_count": null,
   "metadata": {},
   "outputs": [],
   "source": []
  },
  {
   "cell_type": "code",
   "execution_count": 77,
   "metadata": {},
   "outputs": [],
   "source": [
    "test= open('test-data.txt',\"r\")"
   ]
  },
  {
   "cell_type": "code",
   "execution_count": 78,
   "metadata": {},
   "outputs": [],
   "source": [
    "for line in test:\n",
    "    test_list.append([line.split(\" \")[0:2], np.array(line.split(\" \")[2:], dtype=int)])"
   ]
  },
  {
   "cell_type": "code",
   "execution_count": null,
   "metadata": {},
   "outputs": [],
   "source": []
  },
  {
   "cell_type": "code",
   "execution_count": 53,
   "metadata": {},
   "outputs": [],
   "source": [
    "from scipy.spatial import distance"
   ]
  },
  {
   "cell_type": "code",
   "execution_count": 79,
   "metadata": {},
   "outputs": [
    {
     "name": "stdout",
     "output_type": "stream",
     "text": [
      "Accuracy =  70.20148462354189\n"
     ]
    }
   ],
   "source": [
    "file = open(\"output_labels.txt\", \"w\")\n",
    "correct_predict = 0\n",
    "for img in test_list:\n",
    "    dist = []\n",
    "    for img_train in train:\n",
    "        euc_dist = math.sqrt(np.sum((img_train[1] - img[1]) ** 2))\n",
    "        dist.append([img_train[0],euc_dist])\n",
    "    knn = Counter([label[0] for label in sorted(dist, key=lambda x: x[1])[0:30]])    \n",
    "    predicted_label = max(knn, key=lambda x: knn[x])\n",
    "    file.write(\" \".join([img[0][0], predicted_label, \"\\n\"]))\n",
    "    if img[0][1] == predicted_label:\n",
    "            correct_predict += 1\n",
    "print(\"Accuracy = \", float(correct_predict) * 100 / len(test_list))            "
   ]
  },
  {
   "cell_type": "code",
   "execution_count": 69,
   "metadata": {},
   "outputs": [
    {
     "name": "stdout",
     "output_type": "stream",
     "text": [
      "Accuracy =  70.20148462354189\n"
     ]
    }
   ],
   "source": [
    "print(\"Accuracy = \", float(correct_predict) * 100 / len(test_list))     "
   ]
  },
  {
   "cell_type": "code",
   "execution_count": 59,
   "metadata": {},
   "outputs": [],
   "source": []
  },
  {
   "cell_type": "code",
   "execution_count": 60,
   "metadata": {},
   "outputs": [],
   "source": [
    "knn = Counter([label[0] for label in sorted(dist, key=lambda x: x[1])[0:30]])"
   ]
  },
  {
   "cell_type": "code",
   "execution_count": 62,
   "metadata": {},
   "outputs": [],
   "source": [
    "predicted_label = max(knn, key=lambda x: knn[x])"
   ]
  },
  {
   "cell_type": "code",
   "execution_count": null,
   "metadata": {},
   "outputs": [],
   "source": []
  },
  {
   "cell_type": "code",
   "execution_count": null,
   "metadata": {},
   "outputs": [],
   "source": []
  },
  {
   "cell_type": "code",
   "execution_count": null,
   "metadata": {},
   "outputs": [],
   "source": []
  }
 ],
 "metadata": {
  "kernelspec": {
   "display_name": "Python 3",
   "language": "python",
   "name": "python3"
  },
  "language_info": {
   "codemirror_mode": {
    "name": "ipython",
    "version": 3
   },
   "file_extension": ".py",
   "mimetype": "text/x-python",
   "name": "python",
   "nbconvert_exporter": "python",
   "pygments_lexer": "ipython3",
   "version": "3.7.3"
  }
 },
 "nbformat": 4,
 "nbformat_minor": 2
}
